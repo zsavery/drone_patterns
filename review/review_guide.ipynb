{
 "cells": [
  {
   "metadata": {},
   "cell_type": "markdown",
   "source": [
    "# 🐍 A Quick and Fun Guide to Python 3 for Middle School Students 🐍\n",
    "\n",
    " Python is a popular programming language that's easy to learn and fun to use! Throughout this course we will use the _dynamic coded language_ Python 3\n"
   ],
   "id": "fb64c8f2af20e5df"
  },
  {
   "metadata": {},
   "cell_type": "markdown",
   "source": "## 🔤 Data Types",
   "id": "709405483d25bbe1"
  },
  {
   "metadata": {},
   "cell_type": "code",
   "outputs": [],
   "execution_count": null,
   "source": [
    "\n",
    "# Python has different kinds of data:\n",
    "name = \"Alice\"       # string (text)\n",
    "age = 13             # integer (whole number)\n",
    "height = 5.1         # float (decimal number)\n",
    "is_student = True    # boolean (True or False)\n",
    "\n"
   ],
   "id": "37a743181511079f"
  },
  {
   "metadata": {},
   "cell_type": "markdown",
   "source": "## 🔁 Comparisons",
   "id": "ad1e09163b352e44"
  },
  {
   "metadata": {},
   "cell_type": "code",
   "outputs": [],
   "execution_count": null,
   "source": [
    "# We use comparison operators to compare values:\n",
    "x = 5 == 5      # True (equal)\n",
    "x = 10 != 7     # True (not equal)\n",
    "x = 3 > 2       # True (greater than)\n",
    "x = 6 < 9       # True (less than)\n",
    "x = 4 >= 4      # True (greater than or equal)\n",
    "x = 2 <= 5      # True (less than or equal)"
   ],
   "id": "97446513c7cedacc"
  },
  {
   "metadata": {},
   "cell_type": "markdown",
   "source": "## 🧺 Collections",
   "id": "b75381cd1d552ba"
  },
  {
   "metadata": {},
   "cell_type": "markdown",
   "source": "###  📝 List Comprehension",
   "id": "5d09a2cf212db1a5"
  },
  {
   "metadata": {},
   "cell_type": "code",
   "outputs": [],
   "execution_count": null,
   "source": [
    "# A short way to make new lists from existing ones\n",
    "numbers = [1, 2, 3, 4, 5]\n",
    "squares = [n * n for n in numbers]\n",
    "print(\"Squares:\", squares)\n",
    "\n"
   ],
   "id": "8e2b6d45b9023976"
  },
  {
   "metadata": {},
   "cell_type": "markdown",
   "source": "### 🗺️ Dictionary Comprehension (Maps)",
   "id": "ba5732b97ccab385"
  },
  {
   "metadata": {},
   "cell_type": "code",
   "outputs": [],
   "execution_count": null,
   "source": [
    "notebook = {} # empty dict\n",
    "notebook_1 = {\"color\": \"blue\", \"subject\": \"English\"} # dict w/ content\n",
    "notebook_2 = {\"color\": \"red\", \"subject\": \"Math\"}\n",
    "notebook_3 = {\"color\": \"green\", \"subject\": \"Science\"}\n",
    "\n",
    "# you can store a group of liked dicts in a list\n",
    "notebooks = [notebook_1, notebook_2, notebook_3]"
   ],
   "id": "f9e91d717f451da0"
  },
  {
   "metadata": {},
   "cell_type": "code",
   "outputs": [],
   "execution_count": null,
   "source": "# --- 🔀 Control Statements ---",
   "id": "e2be2bdddfec89f0"
  },
  {
   "metadata": {},
   "cell_type": "code",
   "outputs": [],
   "execution_count": null,
   "source": [
    "\n",
    "# Use if, elif, and else to make decisions:\n",
    "if age < 13:\n",
    "    print(\"You're a kid!\")\n",
    "elif age == 13:\n",
    "    print(\"Welcome to being a teenager!\")\n",
    "else:\n",
    "    print(\"You're a teen or older!\")"
   ],
   "id": "d027ea6f6a637e76"
  },
  {
   "metadata": {},
   "cell_type": "code",
   "outputs": [],
   "execution_count": null,
   "source": "# --- 🔄 Loops ---",
   "id": "8be5c46499a42bc2"
  },
  {
   "metadata": {},
   "cell_type": "code",
   "outputs": [],
   "execution_count": null,
   "source": [
    "\n",
    "# Use loops to repeat code:\n",
    "\n",
    "# For loop - repeats a fixed number of times\n",
    "for i in range(3):\n",
    "    print(\"Hello!\", i)\n",
    "\n",
    "# While loop - repeats while a condition is true\n",
    "count = 0\n",
    "while count < 3:\n",
    "    print(\"Counting:\", count)\n",
    "    count += 1"
   ],
   "id": "4c2b40328a825a46"
  },
  {
   "metadata": {},
   "cell_type": "code",
   "outputs": [],
   "execution_count": null,
   "source": "# --- 📁 File Management ---",
   "id": "c682f366b75b9712"
  },
  {
   "metadata": {},
   "cell_type": "code",
   "outputs": [],
   "execution_count": null,
   "source": [
    "\n",
    "# Reading from a file\n",
    "with open(\"my_file.txt\", \"r\") as file:\n",
    "    content = file.read()\n",
    "    print(\"File says:\", content)\n",
    "\n",
    "# Writing to a file\n",
    "with open(\"new_file.txt\", \"w\") as file:\n",
    "    file.write(\"Hello from Python!\")\n"
   ],
   "id": "167197e6d3e1850f"
  },
  {
   "metadata": {},
   "cell_type": "markdown",
   "source": "## --- 📦 Importing ---",
   "id": "5390ebb54a6153a0"
  },
  {
   "metadata": {},
   "cell_type": "code",
   "outputs": [],
   "execution_count": null,
   "source": [
    "# You can use code from other modules using import\n",
    "import math\n",
    "print(\"Square root of 16 is\", math.sqrt(16))\n",
    "\n",
    "# You can also rename imports\n",
    "import random as rnd\n",
    "print(\"Random number between 1 and 10:\", rnd.randint(1, 10))\n"
   ],
   "id": "e6838e58157a0da3"
  }
 ],
 "metadata": {
  "kernelspec": {
   "display_name": "Python 3",
   "language": "python",
   "name": "python3"
  },
  "language_info": {
   "codemirror_mode": {
    "name": "ipython",
    "version": 2
   },
   "file_extension": ".py",
   "mimetype": "text/x-python",
   "name": "python",
   "nbconvert_exporter": "python",
   "pygments_lexer": "ipython2",
   "version": "2.7.6"
  }
 },
 "nbformat": 4,
 "nbformat_minor": 5
}
